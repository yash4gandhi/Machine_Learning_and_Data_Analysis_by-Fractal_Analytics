{
 "cells": [
  {
   "cell_type": "code",
   "execution_count": 1,
   "metadata": {},
   "outputs": [],
   "source": [
    "import numpy as np # linear algebra\n",
    "import pandas as pd # data processing, CSV file I/O (e.g. pd.read_csv)"
   ]
  },
  {
   "cell_type": "code",
   "execution_count": 2,
   "metadata": {},
   "outputs": [
    {
     "data": {
      "text/plain": [
       "Index(['tBodyAcc-mean()-X', 'tBodyAcc-mean()-Y', 'tBodyAcc-mean()-Z',\n",
       "       'tBodyAcc-std()-X', 'tBodyAcc-std()-Y', 'tBodyAcc-std()-Z',\n",
       "       'tBodyAcc-mad()-X', 'tBodyAcc-mad()-Y', 'tBodyAcc-mad()-Z',\n",
       "       'tBodyAcc-max()-X',\n",
       "       ...\n",
       "       'fBodyBodyGyroJerkMag-kurtosis()', 'angle(tBodyAccMean,gravity)',\n",
       "       'angle(tBodyAccJerkMean),gravityMean)',\n",
       "       'angle(tBodyGyroMean,gravityMean)',\n",
       "       'angle(tBodyGyroJerkMean,gravityMean)', 'angle(X,gravityMean)',\n",
       "       'angle(Y,gravityMean)', 'angle(Z,gravityMean)', 'subject', 'Activity'],\n",
       "      dtype='object', length=563)"
      ]
     },
     "execution_count": 2,
     "metadata": {},
     "output_type": "execute_result"
    }
   ],
   "source": [
    "train_df = pd.read_csv(\"https://s3.amazonaws.com/hackerday.datascience/112/train.csv\")\n",
    "test_df = pd.read_csv(\"https://s3.amazonaws.com/hackerday.datascience/112/test.csv\")\n",
    "train_df.columns"
   ]
  },
  {
   "cell_type": "code",
   "execution_count": 3,
   "metadata": {},
   "outputs": [
    {
     "data": {
      "text/plain": [
       "WALKING               209\n",
       "STANDING              179\n",
       "LAYING                164\n",
       "WALKING_UPSTAIRS      159\n",
       "WALKING_DOWNSTAIRS    145\n",
       "SITTING               143\n",
       "Name: Activity, dtype: int64"
      ]
     },
     "execution_count": 3,
     "metadata": {},
     "output_type": "execute_result"
    }
   ],
   "source": [
    "train_df.Activity.value_counts()"
   ]
  },
  {
   "cell_type": "code",
   "execution_count": 4,
   "metadata": {},
   "outputs": [],
   "source": [
    "X = train_df.iloc[:, :-1].values\n",
    "y = train_df.iloc[:, -1].values"
   ]
  },
  {
   "cell_type": "code",
   "execution_count": 5,
   "metadata": {},
   "outputs": [
    {
     "data": {
      "text/plain": [
       "array(['STANDING', 'STANDING', 'STANDING', 'STANDING', 'STANDING',\n",
       "       'STANDING', 'STANDING', 'STANDING', 'STANDING', 'STANDING'],\n",
       "      dtype=object)"
      ]
     },
     "execution_count": 5,
     "metadata": {},
     "output_type": "execute_result"
    }
   ],
   "source": [
    "y[0:10]"
   ]
  },
  {
   "cell_type": "code",
   "execution_count": 6,
   "metadata": {},
   "outputs": [],
   "source": [
    "from sklearn.preprocessing import LabelEncoder, OneHotEncoder\n",
    "labelencoder_y=LabelEncoder()\n",
    "y=labelencoder_y.fit_transform(y)"
   ]
  },
  {
   "cell_type": "code",
   "execution_count": 7,
   "metadata": {},
   "outputs": [
    {
     "data": {
      "text/plain": [
       "array([2, 2, 2, 2, 2, 2, 2, 2, 2, 2, 2, 2, 2, 2, 2, 2, 2, 2, 2, 2, 2, 2,\n",
       "       2, 2, 2, 2, 2, 1, 1, 1, 1, 1, 1, 1, 1, 1, 1, 1, 1, 1, 1, 1, 1, 1,\n",
       "       1, 1, 1, 1, 1, 1, 1, 0, 0, 0, 0, 0, 0, 0, 0, 0, 0, 0, 0, 0, 0, 0,\n",
       "       0, 0, 0, 0, 0, 0, 0, 0, 0, 0, 0, 0, 3, 3, 3, 3, 3, 3, 3, 3, 3, 3,\n",
       "       3, 3, 3, 3, 3, 3, 3, 3, 3, 3, 3, 3])"
      ]
     },
     "execution_count": 7,
     "metadata": {},
     "output_type": "execute_result"
    }
   ],
   "source": [
    "y[0:100]"
   ]
  },
  {
   "cell_type": "code",
   "execution_count": 8,
   "metadata": {},
   "outputs": [],
   "source": [
    "y_o=pd.get_dummies(train_df.iloc[:, -1].values)"
   ]
  },
  {
   "cell_type": "code",
   "execution_count": 9,
   "metadata": {},
   "outputs": [
    {
     "data": {
      "text/html": [
       "<div>\n",
       "<style scoped>\n",
       "    .dataframe tbody tr th:only-of-type {\n",
       "        vertical-align: middle;\n",
       "    }\n",
       "\n",
       "    .dataframe tbody tr th {\n",
       "        vertical-align: top;\n",
       "    }\n",
       "\n",
       "    .dataframe thead th {\n",
       "        text-align: right;\n",
       "    }\n",
       "</style>\n",
       "<table border=\"1\" class=\"dataframe\">\n",
       "  <thead>\n",
       "    <tr style=\"text-align: right;\">\n",
       "      <th></th>\n",
       "      <th>LAYING</th>\n",
       "      <th>SITTING</th>\n",
       "      <th>STANDING</th>\n",
       "      <th>WALKING</th>\n",
       "      <th>WALKING_DOWNSTAIRS</th>\n",
       "      <th>WALKING_UPSTAIRS</th>\n",
       "    </tr>\n",
       "  </thead>\n",
       "  <tbody>\n",
       "    <tr>\n",
       "      <th>20</th>\n",
       "      <td>0</td>\n",
       "      <td>0</td>\n",
       "      <td>1</td>\n",
       "      <td>0</td>\n",
       "      <td>0</td>\n",
       "      <td>0</td>\n",
       "    </tr>\n",
       "    <tr>\n",
       "      <th>21</th>\n",
       "      <td>0</td>\n",
       "      <td>0</td>\n",
       "      <td>1</td>\n",
       "      <td>0</td>\n",
       "      <td>0</td>\n",
       "      <td>0</td>\n",
       "    </tr>\n",
       "    <tr>\n",
       "      <th>22</th>\n",
       "      <td>0</td>\n",
       "      <td>0</td>\n",
       "      <td>1</td>\n",
       "      <td>0</td>\n",
       "      <td>0</td>\n",
       "      <td>0</td>\n",
       "    </tr>\n",
       "    <tr>\n",
       "      <th>23</th>\n",
       "      <td>0</td>\n",
       "      <td>0</td>\n",
       "      <td>1</td>\n",
       "      <td>0</td>\n",
       "      <td>0</td>\n",
       "      <td>0</td>\n",
       "    </tr>\n",
       "    <tr>\n",
       "      <th>24</th>\n",
       "      <td>0</td>\n",
       "      <td>0</td>\n",
       "      <td>1</td>\n",
       "      <td>0</td>\n",
       "      <td>0</td>\n",
       "      <td>0</td>\n",
       "    </tr>\n",
       "    <tr>\n",
       "      <th>...</th>\n",
       "      <td>...</td>\n",
       "      <td>...</td>\n",
       "      <td>...</td>\n",
       "      <td>...</td>\n",
       "      <td>...</td>\n",
       "      <td>...</td>\n",
       "    </tr>\n",
       "    <tr>\n",
       "      <th>95</th>\n",
       "      <td>0</td>\n",
       "      <td>0</td>\n",
       "      <td>0</td>\n",
       "      <td>1</td>\n",
       "      <td>0</td>\n",
       "      <td>0</td>\n",
       "    </tr>\n",
       "    <tr>\n",
       "      <th>96</th>\n",
       "      <td>0</td>\n",
       "      <td>0</td>\n",
       "      <td>0</td>\n",
       "      <td>1</td>\n",
       "      <td>0</td>\n",
       "      <td>0</td>\n",
       "    </tr>\n",
       "    <tr>\n",
       "      <th>97</th>\n",
       "      <td>0</td>\n",
       "      <td>0</td>\n",
       "      <td>0</td>\n",
       "      <td>1</td>\n",
       "      <td>0</td>\n",
       "      <td>0</td>\n",
       "    </tr>\n",
       "    <tr>\n",
       "      <th>98</th>\n",
       "      <td>0</td>\n",
       "      <td>0</td>\n",
       "      <td>0</td>\n",
       "      <td>1</td>\n",
       "      <td>0</td>\n",
       "      <td>0</td>\n",
       "    </tr>\n",
       "    <tr>\n",
       "      <th>99</th>\n",
       "      <td>0</td>\n",
       "      <td>0</td>\n",
       "      <td>0</td>\n",
       "      <td>1</td>\n",
       "      <td>0</td>\n",
       "      <td>0</td>\n",
       "    </tr>\n",
       "  </tbody>\n",
       "</table>\n",
       "<p>80 rows × 6 columns</p>\n",
       "</div>"
      ],
      "text/plain": [
       "    LAYING  SITTING  STANDING  WALKING  WALKING_DOWNSTAIRS  WALKING_UPSTAIRS\n",
       "20       0        0         1        0                   0                 0\n",
       "21       0        0         1        0                   0                 0\n",
       "22       0        0         1        0                   0                 0\n",
       "23       0        0         1        0                   0                 0\n",
       "24       0        0         1        0                   0                 0\n",
       "..     ...      ...       ...      ...                 ...               ...\n",
       "95       0        0         0        1                   0                 0\n",
       "96       0        0         0        1                   0                 0\n",
       "97       0        0         0        1                   0                 0\n",
       "98       0        0         0        1                   0                 0\n",
       "99       0        0         0        1                   0                 0\n",
       "\n",
       "[80 rows x 6 columns]"
      ]
     },
     "execution_count": 9,
     "metadata": {},
     "output_type": "execute_result"
    }
   ],
   "source": [
    "y_o[20:100]"
   ]
  },
  {
   "cell_type": "code",
   "execution_count": 10,
   "metadata": {},
   "outputs": [],
   "source": [
    "#splitting the training set in evaluation and train for our model validation \n",
    "from sklearn.model_selection import train_test_split\n",
    "X_train, X_eval, y_train, y_eval=train_test_split(X, y, test_size= 0.2, random_state=0)"
   ]
  },
  {
   "cell_type": "code",
   "execution_count": 11,
   "metadata": {},
   "outputs": [],
   "source": [
    "# Diving test set in test and validation\n",
    "X_test=test_df.iloc[:,:-1].values\n",
    "y_test=test_df.iloc[:,-1].values"
   ]
  },
  {
   "cell_type": "code",
   "execution_count": 12,
   "metadata": {},
   "outputs": [
    {
     "data": {
      "text/plain": [
       "array(['STANDING', 'STANDING', 'STANDING', 'STANDING', 'STANDING',\n",
       "       'STANDING', 'STANDING', 'STANDING', 'STANDING', 'STANDING'],\n",
       "      dtype=object)"
      ]
     },
     "execution_count": 12,
     "metadata": {},
     "output_type": "execute_result"
    }
   ],
   "source": [
    "y_test[0:10]"
   ]
  },
  {
   "cell_type": "code",
   "execution_count": 13,
   "metadata": {},
   "outputs": [],
   "source": [
    "from sklearn.preprocessing import LabelEncoder, OneHotEncoder\n",
    "labelencoder_eval=LabelEncoder()\n",
    "y_test=labelencoder_eval.fit_transform(y_test)"
   ]
  },
  {
   "cell_type": "code",
   "execution_count": 14,
   "metadata": {},
   "outputs": [
    {
     "data": {
      "text/plain": [
       "array([2, 2, 2, 2, 2, 2, 2, 2, 2, 2])"
      ]
     },
     "execution_count": 14,
     "metadata": {},
     "output_type": "execute_result"
    }
   ],
   "source": [
    "y_test[0:10]"
   ]
  },
  {
   "cell_type": "markdown",
   "metadata": {},
   "source": [
    "## Classfication using logistic regression"
   ]
  },
  {
   "cell_type": "code",
   "execution_count": 15,
   "metadata": {},
   "outputs": [
    {
     "data": {
      "text/plain": [
       "LogisticRegression(C=10)"
      ]
     },
     "execution_count": 15,
     "metadata": {},
     "output_type": "execute_result"
    }
   ],
   "source": [
    "from sklearn.linear_model import LogisticRegression\n",
    "model = LogisticRegression(C=10)#complexity parameter\n",
    "model"
   ]
  },
  {
   "cell_type": "code",
   "execution_count": 16,
   "metadata": {},
   "outputs": [
    {
     "name": "stderr",
     "output_type": "stream",
     "text": [
      "C:\\Users\\Yash\\anaconda3\\lib\\site-packages\\sklearn\\linear_model\\_logistic.py:814: ConvergenceWarning: lbfgs failed to converge (status=1):\n",
      "STOP: TOTAL NO. of ITERATIONS REACHED LIMIT.\n",
      "\n",
      "Increase the number of iterations (max_iter) or scale the data as shown in:\n",
      "    https://scikit-learn.org/stable/modules/preprocessing.html\n",
      "Please also refer to the documentation for alternative solver options:\n",
      "    https://scikit-learn.org/stable/modules/linear_model.html#logistic-regression\n",
      "  n_iter_i = _check_optimize_result(\n"
     ]
    },
    {
     "data": {
      "text/plain": [
       "LogisticRegression(C=10)"
      ]
     },
     "execution_count": 16,
     "metadata": {},
     "output_type": "execute_result"
    }
   ],
   "source": [
    "model.fit(X_train, y_train)"
   ]
  },
  {
   "cell_type": "code",
   "execution_count": 17,
   "metadata": {},
   "outputs": [],
   "source": [
    "# Now we will predict on splitted evaluation data from our training set\n",
    "y_pred_train=model.predict(X_eval)"
   ]
  },
  {
   "cell_type": "code",
   "execution_count": 18,
   "metadata": {},
   "outputs": [
    {
     "data": {
      "text/plain": [
       "0.995"
      ]
     },
     "execution_count": 18,
     "metadata": {},
     "output_type": "execute_result"
    }
   ],
   "source": [
    "from sklearn.metrics import accuracy_score\n",
    "accuracy_score(y_eval, y_pred_train)"
   ]
  },
  {
   "cell_type": "code",
   "execution_count": 19,
   "metadata": {},
   "outputs": [],
   "source": [
    "# Now we will test our model on test data\n",
    "y_pred=model.predict(X_test)"
   ]
  },
  {
   "cell_type": "code",
   "execution_count": 20,
   "metadata": {},
   "outputs": [
    {
     "data": {
      "text/plain": [
       "0.8818818818818819"
      ]
     },
     "execution_count": 20,
     "metadata": {},
     "output_type": "execute_result"
    }
   ],
   "source": [
    "from sklearn.metrics import accuracy_score\n",
    "accuracy_score(y_test, y_pred)"
   ]
  },
  {
   "cell_type": "markdown",
   "metadata": {},
   "source": [
    "## Random forest"
   ]
  },
  {
   "cell_type": "code",
   "execution_count": 21,
   "metadata": {},
   "outputs": [
    {
     "data": {
      "text/plain": [
       "0.99"
      ]
     },
     "execution_count": 21,
     "metadata": {},
     "output_type": "execute_result"
    }
   ],
   "source": [
    "from sklearn.ensemble import RandomForestClassifier\n",
    "model = RandomForestClassifier(n_estimators=500)\n",
    "model.fit(X_train, y_train)\n",
    "rf_pred=model.predict(X_eval)\n",
    "accuracy_score(y_eval,rf_pred)"
   ]
  },
  {
   "cell_type": "code",
   "execution_count": 22,
   "metadata": {},
   "outputs": [],
   "source": [
    "?RandomForestClassifier"
   ]
  },
  {
   "cell_type": "code",
   "execution_count": 23,
   "metadata": {},
   "outputs": [],
   "source": [
    "# Now we will test our model on test data\n",
    "y_pred=model.predict(X_test)"
   ]
  },
  {
   "cell_type": "code",
   "execution_count": 24,
   "metadata": {},
   "outputs": [
    {
     "data": {
      "text/plain": [
       "0.9029029029029029"
      ]
     },
     "execution_count": 24,
     "metadata": {},
     "output_type": "execute_result"
    }
   ],
   "source": [
    "from sklearn.metrics import accuracy_score\n",
    "accuracy_score(y_test, y_pred)"
   ]
  },
  {
   "cell_type": "markdown",
   "metadata": {},
   "source": [
    "## Decision Tree"
   ]
  },
  {
   "cell_type": "code",
   "execution_count": 25,
   "metadata": {},
   "outputs": [
    {
     "data": {
      "text/plain": [
       "0.935"
      ]
     },
     "execution_count": 25,
     "metadata": {},
     "output_type": "execute_result"
    }
   ],
   "source": [
    "from sklearn.tree import DecisionTreeClassifier\n",
    "classifier = DecisionTreeClassifier(criterion = 'gini',max_depth=6,min_samples_leaf=2,random_state = 0)\n",
    "classifier.fit(X_train, y_train)\n",
    "df_pred=classifier.predict(X_eval)\n",
    "accuracy_score(y_eval,df_pred)"
   ]
  },
  {
   "cell_type": "code",
   "execution_count": 26,
   "metadata": {},
   "outputs": [],
   "source": [
    "?DecisionTreeClassifier"
   ]
  },
  {
   "cell_type": "code",
   "execution_count": 27,
   "metadata": {},
   "outputs": [],
   "source": [
    "# Now we will test our model on test data\n",
    "y_pred=classifier.predict(X_test)"
   ]
  },
  {
   "cell_type": "code",
   "execution_count": 28,
   "metadata": {},
   "outputs": [
    {
     "data": {
      "text/plain": [
       "0.7787787787787788"
      ]
     },
     "execution_count": 28,
     "metadata": {},
     "output_type": "execute_result"
    }
   ],
   "source": [
    "from sklearn.metrics import accuracy_score\n",
    "accuracy_score(y_test, y_pred)"
   ]
  },
  {
   "cell_type": "markdown",
   "metadata": {},
   "source": [
    "## SVM"
   ]
  },
  {
   "cell_type": "code",
   "execution_count": 29,
   "metadata": {},
   "outputs": [
    {
     "data": {
      "text/plain": [
       "0.98"
      ]
     },
     "execution_count": 29,
     "metadata": {},
     "output_type": "execute_result"
    }
   ],
   "source": [
    "# Fitting SVM to the Training set\n",
    "from sklearn.svm import SVC\n",
    "classifier_svm = SVC(kernel = 'rbf', random_state = 0)\n",
    "classifier_svm.fit(X_train, y_train)\n",
    "svm_pred=classifier_svm.predict(X_eval)\n",
    "accuracy_score(y_eval,svm_pred)"
   ]
  },
  {
   "cell_type": "code",
   "execution_count": 30,
   "metadata": {},
   "outputs": [],
   "source": [
    "# Now we will test our model on test data\n",
    "y_pred=classifier_svm.predict(X_test)"
   ]
  },
  {
   "cell_type": "code",
   "execution_count": 31,
   "metadata": {},
   "outputs": [
    {
     "data": {
      "text/plain": [
       "0.8518518518518519"
      ]
     },
     "execution_count": 31,
     "metadata": {},
     "output_type": "execute_result"
    }
   ],
   "source": [
    "from sklearn.metrics import accuracy_score\n",
    "accuracy_score(y_test, y_pred)"
   ]
  },
  {
   "cell_type": "code",
   "execution_count": 32,
   "metadata": {},
   "outputs": [],
   "source": [
    "from sklearn.metrics import f1_score"
   ]
  },
  {
   "cell_type": "code",
   "execution_count": 33,
   "metadata": {},
   "outputs": [
    {
     "data": {
      "text/plain": [
       "array([0.99450549, 0.68327402, 0.78947368, 0.87647059, 0.93536122,\n",
       "       0.8253012 ])"
      ]
     },
     "execution_count": 33,
     "metadata": {},
     "output_type": "execute_result"
    }
   ],
   "source": [
    "f1_score(y_test, y_pred,average=None)"
   ]
  },
  {
   "cell_type": "markdown",
   "metadata": {},
   "source": [
    "### This gives F1 score for every class"
   ]
  },
  {
   "cell_type": "markdown",
   "metadata": {},
   "source": [
    "## We are getting Random forest as best classfier algorithm on this dataset \n",
    "\n",
    "#### So to deploy the model we will save the model in form of pickle file , which later we will used for deployment"
   ]
  },
  {
   "cell_type": "code",
   "execution_count": 34,
   "metadata": {},
   "outputs": [],
   "source": [
    "import pickle"
   ]
  },
  {
   "cell_type": "code",
   "execution_count": 35,
   "metadata": {},
   "outputs": [],
   "source": [
    "pickle.dump(model, open('model.pkl','wb'))"
   ]
  },
  {
   "cell_type": "code",
   "execution_count": 36,
   "metadata": {},
   "outputs": [],
   "source": [
    "# Loading model to compare the results\n",
    "model = pickle.load( open('model.pkl','rb'))\n"
   ]
  },
  {
   "cell_type": "code",
   "execution_count": 37,
   "metadata": {},
   "outputs": [
    {
     "data": {
      "text/plain": [
       "Index(['tBodyAcc-mean()-X', 'tBodyAcc-mean()-Y', 'tBodyAcc-mean()-Z',\n",
       "       'tBodyAcc-std()-X', 'tBodyAcc-std()-Y', 'tBodyAcc-std()-Z',\n",
       "       'tBodyAcc-mad()-X', 'tBodyAcc-mad()-Y', 'tBodyAcc-mad()-Z',\n",
       "       'tBodyAcc-max()-X',\n",
       "       ...\n",
       "       'fBodyBodyGyroJerkMag-kurtosis()', 'angle(tBodyAccMean,gravity)',\n",
       "       'angle(tBodyAccJerkMean),gravityMean)',\n",
       "       'angle(tBodyGyroMean,gravityMean)',\n",
       "       'angle(tBodyGyroJerkMean,gravityMean)', 'angle(X,gravityMean)',\n",
       "       'angle(Y,gravityMean)', 'angle(Z,gravityMean)', 'subject', 'Activity'],\n",
       "      dtype='object', length=563)"
      ]
     },
     "execution_count": 37,
     "metadata": {},
     "output_type": "execute_result"
    }
   ],
   "source": [
    "test_df.columns"
   ]
  },
  {
   "cell_type": "code",
   "execution_count": 38,
   "metadata": {},
   "outputs": [],
   "source": [
    "sample=test_df.loc[0,'tBodyAcc-mean()-X':'subject']"
   ]
  },
  {
   "cell_type": "code",
   "execution_count": 39,
   "metadata": {},
   "outputs": [
    {
     "data": {
      "text/plain": [
       "{'tBodyAcc-mean()-X': 0.25717778,\n",
       " 'tBodyAcc-mean()-Y': -0.02328523,\n",
       " 'tBodyAcc-mean()-Z': -0.014653761999999999,\n",
       " 'tBodyAcc-std()-X': -0.9384040000000001,\n",
       " 'tBodyAcc-std()-Y': -0.92009078,\n",
       " 'tBodyAcc-std()-Z': -0.66768331,\n",
       " 'tBodyAcc-mad()-X': -0.95250112,\n",
       " 'tBodyAcc-mad()-Y': -0.92524867,\n",
       " 'tBodyAcc-mad()-Z': -0.67430222,\n",
       " 'tBodyAcc-max()-X': -0.89408755,\n",
       " 'tBodyAcc-max()-Y': -0.55457721,\n",
       " 'tBodyAcc-max()-Z': -0.46622295,\n",
       " 'tBodyAcc-min()-X': 0.71720847,\n",
       " 'tBodyAcc-min()-Y': 0.6355024,\n",
       " 'tBodyAcc-min()-Z': 0.78949666,\n",
       " 'tBodyAcc-sma()': -0.87776423,\n",
       " 'tBodyAcc-energy()-X': -0.99776606,\n",
       " 'tBodyAcc-energy()-Y': -0.99841381,\n",
       " 'tBodyAcc-energy()-Z': -0.93434525,\n",
       " 'tBodyAcc-iqr()-X': -0.97566897,\n",
       " 'tBodyAcc-iqr()-Y': -0.94982365,\n",
       " 'tBodyAcc-iqr()-Z': -0.8304778,\n",
       " 'tBodyAcc-entropy()-X': -0.16808416,\n",
       " 'tBodyAcc-entropy()-Y': -0.37899553,\n",
       " 'tBodyAcc-entropy()-Z': 0.24621698,\n",
       " 'tBodyAcc-arCoeff()-X,1': 0.52120364,\n",
       " 'tBodyAcc-arCoeff()-X,2': -0.48779311,\n",
       " 'tBodyAcc-arCoeff()-X,3': 0.48228047,\n",
       " 'tBodyAcc-arCoeff()-X,4': -0.045462113,\n",
       " 'tBodyAcc-arCoeff()-Y,1': 0.21195505,\n",
       " 'tBodyAcc-arCoeff()-Y,2': -0.13489443,\n",
       " 'tBodyAcc-arCoeff()-Y,3': 0.13085848,\n",
       " 'tBodyAcc-arCoeff()-Y,4': -0.014176313000000001,\n",
       " 'tBodyAcc-arCoeff()-Z,1': -0.10597085,\n",
       " 'tBodyAcc-arCoeff()-Z,2': 0.07354401299999999,\n",
       " 'tBodyAcc-arCoeff()-Z,3': -0.17151642,\n",
       " 'tBodyAcc-arCoeff()-Z,4': 0.040062978,\n",
       " 'tBodyAcc-correlation()-X,Y': 0.076988933,\n",
       " 'tBodyAcc-correlation()-X,Z': -0.49054573,\n",
       " 'tBodyAcc-correlation()-Y,Z': -0.70900265,\n",
       " 'tGravityAcc-mean()-X': 0.93648925,\n",
       " 'tGravityAcc-mean()-Y': -0.28271916,\n",
       " 'tGravityAcc-mean()-Z': 0.11528825,\n",
       " 'tGravityAcc-std()-X': -0.92542727,\n",
       " 'tGravityAcc-std()-Y': -0.93701413,\n",
       " 'tGravityAcc-std()-Z': -0.56428842,\n",
       " 'tGravityAcc-mad()-X': -0.93001992,\n",
       " 'tGravityAcc-mad()-Y': -0.93782195,\n",
       " 'tGravityAcc-mad()-Z': -0.6055877,\n",
       " 'tGravityAcc-max()-X': 0.90608259,\n",
       " 'tGravityAcc-max()-Y': -0.27924413,\n",
       " 'tGravityAcc-max()-Z': 0.15289519,\n",
       " 'tGravityAcc-min()-X': 0.9444614,\n",
       " 'tGravityAcc-min()-Y': -0.26215956,\n",
       " 'tGravityAcc-min()-Z': -0.076161676,\n",
       " 'tGravityAcc-sma()': -0.01782692,\n",
       " 'tGravityAcc-energy()-X': 0.82929682,\n",
       " 'tGravityAcc-energy()-Y': -0.8646206,\n",
       " 'tGravityAcc-energy()-Z': -0.96779531,\n",
       " 'tGravityAcc-iqr()-X': -0.94972666,\n",
       " 'tGravityAcc-iqr()-Y': -0.9461191999999999,\n",
       " 'tGravityAcc-iqr()-Z': -0.75971815,\n",
       " 'tGravityAcc-entropy()-X': -0.42497535,\n",
       " 'tGravityAcc-entropy()-Y': -1.0,\n",
       " 'tGravityAcc-entropy()-Z': 0.21922731,\n",
       " 'tGravityAcc-arCoeff()-X,1': -0.43025357,\n",
       " 'tGravityAcc-arCoeff()-X,2': 0.43104828,\n",
       " 'tGravityAcc-arCoeff()-X,3': -0.43183892,\n",
       " 'tGravityAcc-arCoeff()-X,4': 0.43277380000000004,\n",
       " 'tGravityAcc-arCoeff()-Y,1': -0.79546772,\n",
       " 'tGravityAcc-arCoeff()-Y,2': 0.78131389,\n",
       " 'tGravityAcc-arCoeff()-Y,3': -0.78039147,\n",
       " 'tGravityAcc-arCoeff()-Y,4': 0.78527158,\n",
       " 'tGravityAcc-arCoeff()-Z,1': -0.98441024,\n",
       " 'tGravityAcc-arCoeff()-Z,2': 0.98717986,\n",
       " 'tGravityAcc-arCoeff()-Z,3': -0.98941477,\n",
       " 'tGravityAcc-arCoeff()-Z,4': 0.98768613,\n",
       " 'tGravityAcc-correlation()-X,Y': 0.98058028,\n",
       " 'tGravityAcc-correlation()-X,Z': -0.99635177,\n",
       " 'tGravityAcc-correlation()-Y,Z': -0.96011706,\n",
       " 'tBodyAccJerk-mean()-X': 0.072046007,\n",
       " 'tBodyAccJerk-mean()-Y': 0.04575440099999999,\n",
       " 'tBodyAccJerk-mean()-Z': -0.10604266,\n",
       " 'tBodyAccJerk-std()-X': -0.90668276,\n",
       " 'tBodyAccJerk-std()-Y': -0.93801639,\n",
       " 'tBodyAccJerk-std()-Z': -0.93593583,\n",
       " 'tBodyAccJerk-mad()-X': -0.91608093,\n",
       " 'tBodyAccJerk-mad()-Y': -0.93672546,\n",
       " 'tBodyAccJerk-mad()-Z': -0.94905379,\n",
       " 'tBodyAccJerk-max()-X': -0.90322415,\n",
       " 'tBodyAccJerk-max()-Y': -0.94981833,\n",
       " 'tBodyAccJerk-max()-Z': -0.89140347,\n",
       " 'tBodyAccJerk-min()-X': 0.89847935,\n",
       " 'tBodyAccJerk-min()-Y': 0.95018164,\n",
       " 'tBodyAccJerk-min()-Z': 0.94615279,\n",
       " 'tBodyAccJerk-sma()': -0.93067288,\n",
       " 'tBodyAccJerk-energy()-X': -0.99504593,\n",
       " 'tBodyAccJerk-energy()-Y': -0.99749551,\n",
       " 'tBodyAccJerk-energy()-Z': -0.9970155999999999,\n",
       " 'tBodyAccJerk-iqr()-X': -0.936416,\n",
       " 'tBodyAccJerk-iqr()-Y': -0.94687413,\n",
       " 'tBodyAccJerk-iqr()-Z': -0.96877461,\n",
       " 'tBodyAccJerk-entropy()-X': -0.08517415099999999,\n",
       " 'tBodyAccJerk-entropy()-Y': -0.31026304,\n",
       " 'tBodyAccJerk-entropy()-Z': -0.51028758,\n",
       " 'tBodyAccJerk-arCoeff()-X,1': 0.52148173,\n",
       " 'tBodyAccJerk-arCoeff()-X,2': -0.22588966,\n",
       " 'tBodyAccJerk-arCoeff()-X,3': 0.49172843,\n",
       " 'tBodyAccJerk-arCoeff()-X,4': 0.31275555,\n",
       " 'tBodyAccJerk-arCoeff()-Y,1': 0.2297968,\n",
       " 'tBodyAccJerk-arCoeff()-Y,2': 0.11395925,\n",
       " 'tBodyAccJerk-arCoeff()-Y,3': 0.21987861,\n",
       " 'tBodyAccJerk-arCoeff()-Y,4': 0.42297454,\n",
       " 'tBodyAccJerk-arCoeff()-Z,1': -0.082633177,\n",
       " 'tBodyAccJerk-arCoeff()-Z,2': 0.14042653,\n",
       " 'tBodyAccJerk-arCoeff()-Z,3': -0.19623228,\n",
       " 'tBodyAccJerk-arCoeff()-Z,4': 0.07235793900000001,\n",
       " 'tBodyAccJerk-correlation()-X,Y': -0.26486023,\n",
       " 'tBodyAccJerk-correlation()-X,Z': 0.03585215,\n",
       " 'tBodyAccJerk-correlation()-Y,Z': -0.34973525,\n",
       " 'tBodyGyro-mean()-X': 0.11997616,\n",
       " 'tBodyGyro-mean()-Y': -0.091792335,\n",
       " 'tBodyGyro-mean()-Z': 0.18962854,\n",
       " 'tBodyGyro-std()-X': -0.88308911,\n",
       " 'tBodyGyro-std()-Y': -0.8161636,\n",
       " 'tBodyGyro-std()-Z': -0.94088123,\n",
       " 'tBodyGyro-mad()-X': -0.88861231,\n",
       " 'tBodyGyro-mad()-Y': -0.85780102,\n",
       " 'tBodyGyro-mad()-Z': -0.94581827,\n",
       " 'tBodyGyro-max()-X': -0.66341057,\n",
       " 'tBodyGyro-max()-Y': -0.71343663,\n",
       " 'tBodyGyro-max()-Z': -0.64867861,\n",
       " 'tBodyGyro-min()-X': 0.83710039,\n",
       " 'tBodyGyro-min()-Y': 0.82525677,\n",
       " 'tBodyGyro-min()-Z': 0.81097714,\n",
       " 'tBodyGyro-sma()': -0.79649994,\n",
       " 'tBodyGyro-energy()-X': -0.97961636,\n",
       " 'tBodyGyro-energy()-Y': -0.98290006,\n",
       " 'tBodyGyro-energy()-Z': -0.99403684,\n",
       " 'tBodyGyro-iqr()-X': -0.88655788,\n",
       " 'tBodyGyro-iqr()-Y': -0.90610426,\n",
       " 'tBodyGyro-iqr()-Z': -0.95804876,\n",
       " 'tBodyGyro-entropy()-X': 0.77403279,\n",
       " 'tBodyGyro-entropy()-Y': -0.26770588,\n",
       " 'tBodyGyro-entropy()-Z': 0.45224806,\n",
       " 'tBodyGyro-arCoeff()-X,1': -0.078451267,\n",
       " 'tBodyGyro-arCoeff()-X,2': -0.012578616,\n",
       " 'tBodyGyro-arCoeff()-X,3': 0.23598156,\n",
       " 'tBodyGyro-arCoeff()-X,4': -0.19904751,\n",
       " 'tBodyGyro-arCoeff()-Y,1': 0.03391784,\n",
       " 'tBodyGyro-arCoeff()-Y,2': -0.080780533,\n",
       " 'tBodyGyro-arCoeff()-Y,3': 0.0069987153000000005,\n",
       " 'tBodyGyro-arCoeff()-Y,4': 0.24488551,\n",
       " 'tBodyGyro-arCoeff()-Z,1': 0.21651661,\n",
       " 'tBodyGyro-arCoeff()-Z,2': -0.27968077,\n",
       " 'tBodyGyro-arCoeff()-Z,3': 0.24973875,\n",
       " 'tBodyGyro-arCoeff()-Z,4': 0.017719752,\n",
       " 'tBodyGyro-correlation()-X,Y': 0.64846454,\n",
       " 'tBodyGyro-correlation()-X,Z': -0.23693109,\n",
       " 'tBodyGyro-correlation()-Y,Z': -0.30173469,\n",
       " 'tBodyGyroJerk-mean()-X': -0.20489621,\n",
       " 'tBodyGyroJerk-mean()-Y': -0.17448771,\n",
       " 'tBodyGyroJerk-mean()-Z': -0.09338934,\n",
       " 'tBodyGyroJerk-std()-X': -0.90122415,\n",
       " 'tBodyGyroJerk-std()-Y': -0.91086005,\n",
       " 'tBodyGyroJerk-std()-Z': -0.93925042,\n",
       " 'tBodyGyroJerk-mad()-X': -0.91036271,\n",
       " 'tBodyGyroJerk-mad()-Y': -0.92735675,\n",
       " 'tBodyGyroJerk-mad()-Z': -0.95355413,\n",
       " 'tBodyGyroJerk-max()-X': -0.86791431,\n",
       " 'tBodyGyroJerk-max()-Y': -0.91349778,\n",
       " 'tBodyGyroJerk-max()-Z': -0.89757791,\n",
       " 'tBodyGyroJerk-min()-X': 0.90493669,\n",
       " 'tBodyGyroJerk-min()-Y': 0.91730839,\n",
       " 'tBodyGyroJerk-min()-Z': 0.9476121999999999,\n",
       " 'tBodyGyroJerk-sma()': -0.92960905,\n",
       " 'tBodyGyroJerk-energy()-X': -0.99468622,\n",
       " 'tBodyGyroJerk-energy()-Y': -0.99579057,\n",
       " 'tBodyGyroJerk-energy()-Z': -0.99781265,\n",
       " 'tBodyGyroJerk-iqr()-X': -0.93654081,\n",
       " 'tBodyGyroJerk-iqr()-Y': -0.95887957,\n",
       " 'tBodyGyroJerk-iqr()-Z': -0.97034831,\n",
       " 'tBodyGyroJerk-entropy()-X': 0.03661912,\n",
       " 'tBodyGyroJerk-entropy()-Y': 0.076459933,\n",
       " 'tBodyGyroJerk-entropy()-Z': -0.19712605,\n",
       " 'tBodyGyroJerk-arCoeff()-X,1': 0.10651426,\n",
       " 'tBodyGyroJerk-arCoeff()-X,2': -0.020811895,\n",
       " 'tBodyGyroJerk-arCoeff()-X,3': 0.19325784,\n",
       " 'tBodyGyroJerk-arCoeff()-X,4': 0.30447875,\n",
       " 'tBodyGyroJerk-arCoeff()-Y,1': 0.11572923,\n",
       " 'tBodyGyroJerk-arCoeff()-Y,2': 0.0541496,\n",
       " 'tBodyGyroJerk-arCoeff()-Y,3': 0.068951237,\n",
       " 'tBodyGyroJerk-arCoeff()-Y,4': 0.19704960000000002,\n",
       " 'tBodyGyroJerk-arCoeff()-Z,1': 0.30992826,\n",
       " 'tBodyGyroJerk-arCoeff()-Z,2': -0.21265711,\n",
       " 'tBodyGyroJerk-arCoeff()-Z,3': 0.17317814,\n",
       " 'tBodyGyroJerk-arCoeff()-Z,4': 0.14584454,\n",
       " 'tBodyGyroJerk-correlation()-X,Y': 0.12400875,\n",
       " 'tBodyGyroJerk-correlation()-X,Z': -0.15534634,\n",
       " 'tBodyGyroJerk-correlation()-Y,Z': -0.32343727,\n",
       " 'tBodyAccMag-mean()': -0.86692938,\n",
       " 'tBodyAccMag-std()': -0.70519112,\n",
       " 'tBodyAccMag-mad()': -0.74402172,\n",
       " 'tBodyAccMag-max()': -0.76079564,\n",
       " 'tBodyAccMag-min()': -0.9816486999999999,\n",
       " 'tBodyAccMag-sma()': -0.86692938,\n",
       " 'tBodyAccMag-energy()': -0.98016578,\n",
       " 'tBodyAccMag-iqr()': -0.85947423,\n",
       " 'tBodyAccMag-entropy()': 0.25510436,\n",
       " 'tBodyAccMag-arCoeff()1': 0.053779695,\n",
       " 'tBodyAccMag-arCoeff()2': -0.20414449,\n",
       " 'tBodyAccMag-arCoeff()3': 0.61052755,\n",
       " 'tBodyAccMag-arCoeff()4': -0.56444932,\n",
       " 'tGravityAccMag-mean()': -0.86692938,\n",
       " 'tGravityAccMag-std()': -0.70519112,\n",
       " 'tGravityAccMag-mad()': -0.74402172,\n",
       " 'tGravityAccMag-max()': -0.76079564,\n",
       " 'tGravityAccMag-min()': -0.9816486999999999,\n",
       " 'tGravityAccMag-sma()': -0.86692938,\n",
       " 'tGravityAccMag-energy()': -0.98016578,\n",
       " 'tGravityAccMag-iqr()': -0.85947423,\n",
       " 'tGravityAccMag-entropy()': 0.25510436,\n",
       " 'tGravityAccMag-arCoeff()1': 0.053779695,\n",
       " 'tGravityAccMag-arCoeff()2': -0.20414449,\n",
       " 'tGravityAccMag-arCoeff()3': 0.61052755,\n",
       " 'tGravityAccMag-arCoeff()4': -0.56444932,\n",
       " 'tBodyAccJerkMag-mean()': -0.92976655,\n",
       " 'tBodyAccJerkMag-std()': -0.89599425,\n",
       " 'tBodyAccJerkMag-mad()': -0.90041731,\n",
       " 'tBodyAccJerkMag-max()': -0.90300439,\n",
       " 'tBodyAccJerkMag-min()': -0.97501109,\n",
       " 'tBodyAccJerkMag-sma()': -0.92976655,\n",
       " 'tBodyAccJerkMag-energy()': -0.99560772,\n",
       " 'tBodyAccJerkMag-iqr()': -0.91412066,\n",
       " 'tBodyAccJerkMag-entropy()': -0.12955231,\n",
       " 'tBodyAccJerkMag-arCoeff()1': 0.23891093,\n",
       " 'tBodyAccJerkMag-arCoeff()2': -0.34559715,\n",
       " 'tBodyAccJerkMag-arCoeff()3': 0.32646236,\n",
       " 'tBodyAccJerkMag-arCoeff()4': -0.263048,\n",
       " 'tBodyGyroMag-mean()': -0.79554393,\n",
       " 'tBodyGyroMag-std()': -0.76207322,\n",
       " 'tBodyGyroMag-mad()': -0.78267232,\n",
       " 'tBodyGyroMag-max()': -0.71659365,\n",
       " 'tBodyGyroMag-min()': -0.76419261,\n",
       " 'tBodyGyroMag-sma()': -0.79554393,\n",
       " 'tBodyGyroMag-energy()': -0.97415212,\n",
       " 'tBodyGyroMag-iqr()': -0.83958101,\n",
       " 'tBodyGyroMag-entropy()': 0.66756269,\n",
       " 'tBodyGyroMag-arCoeff()1': 0.035621137000000004,\n",
       " 'tBodyGyroMag-arCoeff()2': -0.16189398,\n",
       " 'tBodyGyroMag-arCoeff()3': 0.15325006,\n",
       " 'tBodyGyroMag-arCoeff()4': -0.006759604000000001,\n",
       " 'tBodyGyroJerkMag-mean()': -0.92519489,\n",
       " 'tBodyGyroJerkMag-std()': -0.89434361,\n",
       " 'tBodyGyroJerkMag-mad()': -0.90014668,\n",
       " 'tBodyGyroJerkMag-max()': -0.91673708,\n",
       " 'tBodyGyroJerkMag-min()': -0.97636665,\n",
       " 'tBodyGyroJerkMag-sma()': -0.92519489,\n",
       " 'tBodyGyroJerkMag-energy()': -0.99582422,\n",
       " 'tBodyGyroJerkMag-iqr()': -0.9118375,\n",
       " 'tBodyGyroJerkMag-entropy()': 0.33165431,\n",
       " 'tBodyGyroJerkMag-arCoeff()1': 0.51695316,\n",
       " 'tBodyGyroJerkMag-arCoeff()2': -0.513504,\n",
       " 'tBodyGyroJerkMag-arCoeff()3': 0.041319806,\n",
       " 'tBodyGyroJerkMag-arCoeff()4': 0.011835011999999999,\n",
       " 'fBodyAcc-mean()-X': -0.91850969,\n",
       " 'fBodyAcc-mean()-Y': -0.91821319,\n",
       " 'fBodyAcc-mean()-Z': -0.78909145,\n",
       " 'fBodyAcc-std()-X': -0.94829035,\n",
       " 'fBodyAcc-std()-Y': -0.92513687,\n",
       " 'fBodyAcc-std()-Z': -0.63631674,\n",
       " 'fBodyAcc-mad()-X': -0.93068029,\n",
       " 'fBodyAcc-mad()-Y': -0.92443848,\n",
       " 'fBodyAcc-mad()-Z': -0.72490255,\n",
       " 'fBodyAcc-max()-X': -0.96842407,\n",
       " 'fBodyAcc-max()-Y': -0.94013675,\n",
       " 'fBodyAcc-max()-Z': -0.59718873,\n",
       " 'fBodyAcc-min()-X': -0.96613713,\n",
       " 'fBodyAcc-min()-Y': -0.98445054,\n",
       " 'fBodyAcc-min()-Z': -0.95208707,\n",
       " 'fBodyAcc-sma()': -0.86506318,\n",
       " 'fBodyAcc-energy()-X': -0.99784371,\n",
       " 'fBodyAcc-energy()-Y': -0.99603625,\n",
       " 'fBodyAcc-energy()-Z': -0.94019503,\n",
       " 'fBodyAcc-iqr()-X': -0.90484043,\n",
       " 'fBodyAcc-iqr()-Y': -0.93381245,\n",
       " 'fBodyAcc-iqr()-Z': -0.86938291,\n",
       " 'fBodyAcc-entropy()-X': -0.33967327,\n",
       " 'fBodyAcc-entropy()-Y': -0.48580324,\n",
       " 'fBodyAcc-entropy()-Z': -0.16625765,\n",
       " 'fBodyAcc-maxInds-X': -1.0,\n",
       " 'fBodyAcc-maxInds-Y': -1.0,\n",
       " 'fBodyAcc-maxInds-Z': -1.0,\n",
       " 'fBodyAcc-meanFreq()-X': 0.011116947,\n",
       " 'fBodyAcc-meanFreq()-Y': 0.12125069,\n",
       " 'fBodyAcc-meanFreq()-Z': -0.52294869,\n",
       " 'fBodyAcc-skewness()-X': -0.5719995,\n",
       " 'fBodyAcc-kurtosis()-X': -0.89461236,\n",
       " 'fBodyAcc-skewness()-Y': -0.33826592,\n",
       " 'fBodyAcc-kurtosis()-Y': -0.68679745,\n",
       " 'fBodyAcc-skewness()-Z': 0.1895525,\n",
       " 'fBodyAcc-kurtosis()-Z': -0.11359571,\n",
       " 'fBodyAcc-bandsEnergy()-1,8': -0.99850627,\n",
       " 'fBodyAcc-bandsEnergy()-9,16': -0.99794262,\n",
       " 'fBodyAcc-bandsEnergy()-17,24': -0.99559788,\n",
       " 'fBodyAcc-bandsEnergy()-25,32': -0.99503559,\n",
       " 'fBodyAcc-bandsEnergy()-33,40': -0.9959769,\n",
       " 'fBodyAcc-bandsEnergy()-41,48': -0.99148743,\n",
       " 'fBodyAcc-bandsEnergy()-49,56': -0.99213116,\n",
       " 'fBodyAcc-bandsEnergy()-57,64': -0.99977512,\n",
       " 'fBodyAcc-bandsEnergy()-1,16': -0.99820395,\n",
       " 'fBodyAcc-bandsEnergy()-17,32': -0.99474673,\n",
       " 'fBodyAcc-bandsEnergy()-33,48': -0.99430903,\n",
       " 'fBodyAcc-bandsEnergy()-49,64': -0.99469323,\n",
       " 'fBodyAcc-bandsEnergy()-1,24': -0.99802046,\n",
       " 'fBodyAcc-bandsEnergy()-25,48': -0.99372747,\n",
       " 'fBodyAcc-bandsEnergy()-1,8.1': -0.99620895,\n",
       " 'fBodyAcc-bandsEnergy()-9,16.1': -0.99797615,\n",
       " 'fBodyAcc-bandsEnergy()-17,24.1': -0.99892091,\n",
       " 'fBodyAcc-bandsEnergy()-25,32.1': -0.99640106,\n",
       " 'fBodyAcc-bandsEnergy()-33,40.1': -0.99755992,\n",
       " 'fBodyAcc-bandsEnergy()-41,48.1': -0.99506803,\n",
       " 'fBodyAcc-bandsEnergy()-49,56.1': -0.99735126,\n",
       " 'fBodyAcc-bandsEnergy()-57,64.1': -0.99823805,\n",
       " 'fBodyAcc-bandsEnergy()-1,16.1': -0.99607053,\n",
       " 'fBodyAcc-bandsEnergy()-17,32.1': -0.99792459,\n",
       " 'fBodyAcc-bandsEnergy()-33,48.1': -0.99635664,\n",
       " 'fBodyAcc-bandsEnergy()-49,64.1': -0.9976398000000001,\n",
       " 'fBodyAcc-bandsEnergy()-1,24.1': -0.99622004,\n",
       " 'fBodyAcc-bandsEnergy()-25,48.1': -0.99622539,\n",
       " 'fBodyAcc-bandsEnergy()-1,8.2': -0.9247055000000001,\n",
       " 'fBodyAcc-bandsEnergy()-9,16.2': -0.99409728,\n",
       " 'fBodyAcc-bandsEnergy()-17,24.2': -0.99532347,\n",
       " 'fBodyAcc-bandsEnergy()-25,32.2': -0.99896944,\n",
       " 'fBodyAcc-bandsEnergy()-33,40.2': -0.99790162,\n",
       " 'fBodyAcc-bandsEnergy()-41,48.2': -0.99492962,\n",
       " 'fBodyAcc-bandsEnergy()-49,56.2': -0.98926072,\n",
       " 'fBodyAcc-bandsEnergy()-57,64.2': -0.9800853999999999,\n",
       " 'fBodyAcc-bandsEnergy()-1,16.2': -0.93793669,\n",
       " 'fBodyAcc-bandsEnergy()-17,32.2': -0.99667757,\n",
       " 'fBodyAcc-bandsEnergy()-33,48.2': -0.9970254000000001,\n",
       " 'fBodyAcc-bandsEnergy()-49,64.2': -0.98642738,\n",
       " 'fBodyAcc-bandsEnergy()-1,24.2': -0.93920079,\n",
       " 'fBodyAcc-bandsEnergy()-25,48.2': -0.99843184,\n",
       " 'fBodyAccJerk-mean()-X': -0.89963316,\n",
       " 'fBodyAccJerk-mean()-Y': -0.937485,\n",
       " 'fBodyAccJerk-mean()-Z': -0.9235514000000001,\n",
       " 'fBodyAccJerk-std()-X': -0.92442913,\n",
       " 'fBodyAccJerk-std()-Y': -0.94321038,\n",
       " 'fBodyAccJerk-std()-Z': -0.94789152,\n",
       " 'fBodyAccJerk-mad()-X': -0.89661455,\n",
       " 'fBodyAccJerk-mad()-Y': -0.93830911,\n",
       " 'fBodyAccJerk-mad()-Z': -0.9425756999999999,\n",
       " 'fBodyAccJerk-max()-X': -0.94863426,\n",
       " 'fBodyAccJerk-max()-Y': -0.95832542,\n",
       " 'fBodyAccJerk-max()-Z': -0.95881686,\n",
       " 'fBodyAccJerk-min()-X': -0.94388241,\n",
       " 'fBodyAccJerk-min()-Y': -0.98730333,\n",
       " 'fBodyAccJerk-min()-Z': -0.97846559,\n",
       " 'fBodyAccJerk-sma()': -0.90527425,\n",
       " 'fBodyAccJerk-energy()-X': -0.99503609,\n",
       " 'fBodyAccJerk-energy()-Y': -0.99749931,\n",
       " 'fBodyAccJerk-energy()-Z': -0.9970306999999999,\n",
       " 'fBodyAccJerk-iqr()-X': -0.88707736,\n",
       " 'fBodyAccJerk-iqr()-Y': -0.93581956,\n",
       " 'fBodyAccJerk-iqr()-Z': -0.95365327,\n",
       " 'fBodyAccJerk-entropy()-X': -0.4706616,\n",
       " 'fBodyAccJerk-entropy()-Y': -0.6721718000000001,\n",
       " 'fBodyAccJerk-entropy()-Z': -0.59627404,\n",
       " 'fBodyAccJerk-maxInds-X': -0.52,\n",
       " 'fBodyAccJerk-maxInds-Y': 0.08,\n",
       " 'fBodyAccJerk-maxInds-Z': 0.32,\n",
       " 'fBodyAccJerk-meanFreq()-X': 0.45100539,\n",
       " 'fBodyAccJerk-meanFreq()-Y': 0.13716703,\n",
       " 'fBodyAccJerk-meanFreq()-Z': -0.18029913,\n",
       " 'fBodyAccJerk-skewness()-X': -0.58008614,\n",
       " 'fBodyAccJerk-kurtosis()-X': -0.90807003,\n",
       " 'fBodyAccJerk-skewness()-Y': -0.62552686,\n",
       " 'fBodyAccJerk-kurtosis()-Y': -0.94275716,\n",
       " 'fBodyAccJerk-skewness()-Z': -0.66191006,\n",
       " 'fBodyAccJerk-kurtosis()-Z': -0.91153211,\n",
       " 'fBodyAccJerk-bandsEnergy()-1,8': -0.99901148,\n",
       " 'fBodyAccJerk-bandsEnergy()-9,16': -0.99763006,\n",
       " 'fBodyAccJerk-bandsEnergy()-17,24': -0.99598477,\n",
       " 'fBodyAccJerk-bandsEnergy()-25,32': -0.99470846,\n",
       " 'fBodyAccJerk-bandsEnergy()-33,40': -0.99557158,\n",
       " 'fBodyAccJerk-bandsEnergy()-41,48': -0.98787651,\n",
       " 'fBodyAccJerk-bandsEnergy()-49,56': -0.98644523,\n",
       " 'fBodyAccJerk-bandsEnergy()-57,64': -0.99820517,\n",
       " 'fBodyAccJerk-bandsEnergy()-1,16': -0.99804041,\n",
       " 'fBodyAccJerk-bandsEnergy()-17,32': -0.99449682,\n",
       " 'fBodyAccJerk-bandsEnergy()-33,48': -0.99204962,\n",
       " 'fBodyAccJerk-bandsEnergy()-49,64': -0.98633303,\n",
       " 'fBodyAccJerk-bandsEnergy()-1,24': -0.99689353,\n",
       " 'fBodyAccJerk-bandsEnergy()-25,48': -0.99076269,\n",
       " 'fBodyAccJerk-bandsEnergy()-1,8.1': -0.99940916,\n",
       " 'fBodyAccJerk-bandsEnergy()-9,16.1': -0.99864806,\n",
       " 'fBodyAccJerk-bandsEnergy()-17,24.1': -0.99874875,\n",
       " 'fBodyAccJerk-bandsEnergy()-25,32.1': -0.99640627,\n",
       " 'fBodyAccJerk-bandsEnergy()-33,40.1': -0.99717222,\n",
       " 'fBodyAccJerk-bandsEnergy()-41,48.1': -0.9945301999999999,\n",
       " 'fBodyAccJerk-bandsEnergy()-49,56.1': -0.99791979,\n",
       " 'fBodyAccJerk-bandsEnergy()-57,64.1': -0.9999697,\n",
       " 'fBodyAccJerk-bandsEnergy()-1,16.1': -0.99864167,\n",
       " 'fBodyAccJerk-bandsEnergy()-17,32.1': -0.9974017,\n",
       " 'fBodyAccJerk-bandsEnergy()-33,48.1': -0.99541085,\n",
       " 'fBodyAccJerk-bandsEnergy()-49,64.1': -0.9981824,\n",
       " 'fBodyAccJerk-bandsEnergy()-1,24.1': -0.99846306,\n",
       " 'fBodyAccJerk-bandsEnergy()-25,48.1': -0.99599581,\n",
       " 'fBodyAccJerk-bandsEnergy()-1,8.2': -0.99363885,\n",
       " 'fBodyAccJerk-bandsEnergy()-9,16.2': -0.9978378000000001,\n",
       " 'fBodyAccJerk-bandsEnergy()-17,24.2': -0.99712931,\n",
       " 'fBodyAccJerk-bandsEnergy()-25,32.2': -0.9987495000000001,\n",
       " 'fBodyAccJerk-bandsEnergy()-33,40.2': -0.99670876,\n",
       " 'fBodyAccJerk-bandsEnergy()-41,48.2': -0.99510966,\n",
       " 'fBodyAccJerk-bandsEnergy()-49,56.2': -0.99848581,\n",
       " 'fBodyAccJerk-bandsEnergy()-57,64.2': -0.99909354,\n",
       " 'fBodyAccJerk-bandsEnergy()-1,16.2': -0.99592463,\n",
       " 'fBodyAccJerk-bandsEnergy()-17,32.2': -0.99795094,\n",
       " 'fBodyAccJerk-bandsEnergy()-33,48.2': -0.9960129000000001,\n",
       " 'fBodyAccJerk-bandsEnergy()-49,64.2': -0.99846008,\n",
       " 'fBodyAccJerk-bandsEnergy()-1,24.2': -0.99626705,\n",
       " 'fBodyAccJerk-bandsEnergy()-25,48.2': -0.99770046,\n",
       " 'fBodyGyro-mean()-X': -0.82355788,\n",
       " 'fBodyGyro-mean()-Y': -0.80791598,\n",
       " 'fBodyGyro-mean()-Z': -0.91791256,\n",
       " 'fBodyGyro-std()-X': -0.90326274,\n",
       " 'fBodyGyro-std()-Y': -0.822677,\n",
       " 'fBodyGyro-std()-Z': -0.95616508,\n",
       " 'fBodyGyro-mad()-X': -0.86512704,\n",
       " 'fBodyGyro-mad()-Y': -0.83180082,\n",
       " 'fBodyGyro-mad()-Z': -0.94105617,\n",
       " 'fBodyGyro-max()-X': -0.90479801,\n",
       " 'fBodyGyro-max()-Y': -0.87925663,\n",
       " 'fBodyGyro-max()-Z': -0.96778849,\n",
       " 'fBodyGyro-min()-X': -0.87859934,\n",
       " 'fBodyGyro-min()-Y': -0.94832915,\n",
       " 'fBodyGyro-min()-Z': -0.91968517,\n",
       " 'fBodyGyro-sma()': -0.82847203,\n",
       " 'fBodyGyro-energy()-X': -0.99294953,\n",
       " 'fBodyGyro-energy()-Y': -0.98266311,\n",
       " 'fBodyGyro-energy()-Z': -0.99799327,\n",
       " 'fBodyGyro-iqr()-X': -0.8788944,\n",
       " 'fBodyGyro-iqr()-Y': -0.83815197,\n",
       " 'fBodyGyro-iqr()-Z': -0.92913995,\n",
       " 'fBodyGyro-entropy()-X': 0.0007581480599999999,\n",
       " 'fBodyGyro-entropy()-Y': 0.20014368,\n",
       " 'fBodyGyro-entropy()-Z': -0.25338416,\n",
       " 'fBodyGyro-maxInds-X': -1.0,\n",
       " 'fBodyGyro-maxInds-Y': -0.93548387,\n",
       " 'fBodyGyro-maxInds-Z': -0.93103448,\n",
       " 'fBodyGyro-meanFreq()-X': 0.18403457,\n",
       " 'fBodyGyro-meanFreq()-Y': -0.059322857,\n",
       " 'fBodyGyro-meanFreq()-Z': 0.43810716,\n",
       " 'fBodyGyro-skewness()-X': -0.39542276,\n",
       " 'fBodyGyro-kurtosis()-X': -0.6987616,\n",
       " 'fBodyGyro-skewness()-Y': -0.38745724,\n",
       " 'fBodyGyro-kurtosis()-Y': -0.78639417,\n",
       " 'fBodyGyro-skewness()-Z': -0.48565359,\n",
       " 'fBodyGyro-kurtosis()-Z': -0.78681512,\n",
       " 'fBodyGyro-bandsEnergy()-1,8': -0.99462908,\n",
       " 'fBodyGyro-bandsEnergy()-9,16': -0.99046914,\n",
       " 'fBodyGyro-bandsEnergy()-17,24': -0.99277782,\n",
       " 'fBodyGyro-bandsEnergy()-25,32': -0.99567969,\n",
       " 'fBodyGyro-bandsEnergy()-33,40': -0.98707772,\n",
       " 'fBodyGyro-bandsEnergy()-41,48': -0.98665097,\n",
       " 'fBodyGyro-bandsEnergy()-49,56': -0.98411445,\n",
       " 'fBodyGyro-bandsEnergy()-57,64': -0.98525021,\n",
       " 'fBodyGyro-bandsEnergy()-1,16': -0.99355255,\n",
       " 'fBodyGyro-bandsEnergy()-17,32': -0.99243025,\n",
       " 'fBodyGyro-bandsEnergy()-33,48': -0.98560582,\n",
       " 'fBodyGyro-bandsEnergy()-49,64': -0.98461702,\n",
       " 'fBodyGyro-bandsEnergy()-1,24': -0.99326921,\n",
       " 'fBodyGyro-bandsEnergy()-25,48': -0.99272545,\n",
       " 'fBodyGyro-bandsEnergy()-1,8.1': -0.97792782,\n",
       " 'fBodyGyro-bandsEnergy()-9,16.1': -0.99485223,\n",
       " 'fBodyGyro-bandsEnergy()-17,24.1': -0.99781915,\n",
       " 'fBodyGyro-bandsEnergy()-25,32.1': -0.99484295,\n",
       " 'fBodyGyro-bandsEnergy()-33,40.1': -0.99240991,\n",
       " 'fBodyGyro-bandsEnergy()-41,48.1': -0.98812267,\n",
       " 'fBodyGyro-bandsEnergy()-49,56.1': -0.99043323,\n",
       " 'fBodyGyro-bandsEnergy()-57,64.1': -0.98796127,\n",
       " 'fBodyGyro-bandsEnergy()-1,16.1': -0.98179096,\n",
       " 'fBodyGyro-bandsEnergy()-17,32.1': -0.99639919,\n",
       " 'fBodyGyro-bandsEnergy()-33,48.1': -0.99145229,\n",
       " 'fBodyGyro-bandsEnergy()-49,64.1': -0.98805999,\n",
       " 'fBodyGyro-bandsEnergy()-1,24.1': -0.98204835,\n",
       " 'fBodyGyro-bandsEnergy()-25,48.1': -0.99337999,\n",
       " 'fBodyGyro-bandsEnergy()-1,8.2': -0.99887769,\n",
       " 'fBodyGyro-bandsEnergy()-9,16.2': -0.99836665,\n",
       " 'fBodyGyro-bandsEnergy()-17,24.2': -0.9984673000000001,\n",
       " 'fBodyGyro-bandsEnergy()-25,32.2': -0.99837462,\n",
       " 'fBodyGyro-bandsEnergy()-33,40.2': -0.99890591,\n",
       " 'fBodyGyro-bandsEnergy()-41,48.2': -0.99589361,\n",
       " 'fBodyGyro-bandsEnergy()-49,56.2': -0.99312836,\n",
       " 'fBodyGyro-bandsEnergy()-57,64.2': -0.99547231,\n",
       " 'fBodyGyro-bandsEnergy()-1,16.2': -0.9983871,\n",
       " 'fBodyGyro-bandsEnergy()-17,32.2': -0.9977543,\n",
       " 'fBodyGyro-bandsEnergy()-33,48.2': -0.99809593,\n",
       " 'fBodyGyro-bandsEnergy()-49,64.2': -0.99414765,\n",
       " 'fBodyGyro-bandsEnergy()-1,24.2': -0.99819058,\n",
       " 'fBodyGyro-bandsEnergy()-25,48.2': -0.99829005,\n",
       " 'fBodyAccMag-mean()': -0.79094643,\n",
       " 'fBodyAccMag-std()': -0.711074,\n",
       " 'fBodyAccMag-mad()': -0.72670699,\n",
       " 'fBodyAccMag-max()': -0.77769715,\n",
       " 'fBodyAccMag-min()': -0.94488134,\n",
       " 'fBodyAccMag-sma()': -0.79094643,\n",
       " 'fBodyAccMag-energy()': -0.95398356,\n",
       " 'fBodyAccMag-iqr()': -0.87354261,\n",
       " 'fBodyAccMag-entropy()': -0.17459288,\n",
       " 'fBodyAccMag-maxInds': -1.0,\n",
       " 'fBodyAccMag-meanFreq()': -0.48345254,\n",
       " 'fBodyAccMag-skewness()': 0.011040681,\n",
       " 'fBodyAccMag-kurtosis()': -0.38451662,\n",
       " 'fBodyBodyAccJerkMag-mean()': -0.89506118,\n",
       " 'fBodyBodyAccJerkMag-std()': -0.89635958,\n",
       " 'fBodyBodyAccJerkMag-mad()': -0.8881974,\n",
       " 'fBodyBodyAccJerkMag-max()': -0.92846566,\n",
       " 'fBodyBodyAccJerkMag-min()': -0.89809981,\n",
       " 'fBodyBodyAccJerkMag-sma()': -0.89506118,\n",
       " 'fBodyBodyAccJerkMag-energy()': -0.99347143,\n",
       " 'fBodyBodyAccJerkMag-iqr()': -0.92147669,\n",
       " 'fBodyBodyAccJerkMag-entropy()': -0.48461929,\n",
       " 'fBodyBodyAccJerkMag-maxInds': -1.0,\n",
       " 'fBodyBodyAccJerkMag-meanFreq()': -0.035355792000000004,\n",
       " 'fBodyBodyAccJerkMag-skewness()': -0.2542483,\n",
       " 'fBodyBodyAccJerkMag-kurtosis()': -0.70032573,\n",
       " 'fBodyBodyGyroMag-mean()': -0.77061,\n",
       " 'fBodyBodyGyroMag-std()': -0.79711285,\n",
       " 'fBodyBodyGyroMag-mad()': -0.76448457,\n",
       " 'fBodyBodyGyroMag-max()': -0.8201876,\n",
       " 'fBodyBodyGyroMag-min()': -0.93795935,\n",
       " 'fBodyBodyGyroMag-sma()': -0.77061,\n",
       " 'fBodyBodyGyroMag-energy()': -0.97095802,\n",
       " 'fBodyBodyGyroMag-iqr()': -0.79838652,\n",
       " 'fBodyBodyGyroMag-entropy()': 0.17943523,\n",
       " 'fBodyBodyGyroMag-maxInds': -1.0,\n",
       " 'fBodyBodyGyroMag-meanFreq()': -0.047391298,\n",
       " 'fBodyBodyGyroMag-skewness()': -0.46784901,\n",
       " 'fBodyBodyGyroMag-kurtosis()': -0.76132577,\n",
       " 'fBodyBodyGyroJerkMag-mean()': -0.89016545,\n",
       " 'fBodyBodyGyroJerkMag-std()': -0.90730756,\n",
       " 'fBodyBodyGyroJerkMag-mad()': -0.89530057,\n",
       " 'fBodyBodyGyroJerkMag-max()': -0.91788296,\n",
       " 'fBodyBodyGyroJerkMag-min()': -0.90982876,\n",
       " 'fBodyBodyGyroJerkMag-sma()': -0.89016545,\n",
       " 'fBodyBodyGyroJerkMag-energy()': -0.99410543,\n",
       " 'fBodyBodyGyroJerkMag-iqr()': -0.89802151,\n",
       " 'fBodyBodyGyroJerkMag-entropy()': -0.23481529,\n",
       " 'fBodyBodyGyroJerkMag-maxInds': -1.0,\n",
       " 'fBodyBodyGyroJerkMag-meanFreq()': 0.071645446,\n",
       " 'fBodyBodyGyroJerkMag-skewness()': -0.33037044,\n",
       " 'fBodyBodyGyroJerkMag-kurtosis()': -0.70597388,\n",
       " 'angle(tBodyAccMean,gravity)': 0.006462402900000001,\n",
       " 'angle(tBodyAccJerkMean),gravityMean)': 0.16291982,\n",
       " 'angle(tBodyGyroMean,gravityMean)': -0.82588562,\n",
       " 'angle(tBodyGyroJerkMean,gravityMean)': 0.27115145,\n",
       " 'angle(X,gravityMean)': -0.72000927,\n",
       " 'angle(Y,gravityMean)': 0.27680104,\n",
       " 'angle(Z,gravityMean)': -0.057978304,\n",
       " 'subject': 2}"
      ]
     },
     "execution_count": 39,
     "metadata": {},
     "output_type": "execute_result"
    }
   ],
   "source": [
    "dict(sample)"
   ]
  },
  {
   "cell_type": "code",
   "execution_count": 40,
   "metadata": {},
   "outputs": [
    {
     "data": {
      "text/plain": [
       "'STANDING'"
      ]
     },
     "execution_count": 40,
     "metadata": {},
     "output_type": "execute_result"
    }
   ],
   "source": [
    "output=test_df.loc[0,'Activity']\n",
    "output"
   ]
  },
  {
   "cell_type": "markdown",
   "metadata": {},
   "source": [
    "## Now our model will give output as number as we have one hot encoded so how to map it to our labels I will take list of unique values and one hot encode it to see our model performance"
   ]
  },
  {
   "cell_type": "code",
   "execution_count": 41,
   "metadata": {},
   "outputs": [],
   "source": [
    "from sklearn.preprocessing import LabelEncoder, OneHotEncoder\n",
    "labelencoder_o=LabelEncoder()"
   ]
  },
  {
   "cell_type": "code",
   "execution_count": 42,
   "metadata": {},
   "outputs": [
    {
     "data": {
      "text/plain": [
       "array(['STANDING', 'SITTING', 'LAYING', 'WALKING', 'WALKING_DOWNSTAIRS',\n",
       "       'WALKING_UPSTAIRS'], dtype=object)"
      ]
     },
     "execution_count": 42,
     "metadata": {},
     "output_type": "execute_result"
    }
   ],
   "source": [
    "ot=train_df.Activity.unique()\n",
    "ot"
   ]
  },
  {
   "cell_type": "code",
   "execution_count": 43,
   "metadata": {},
   "outputs": [],
   "source": [
    "ot_label=labelencoder_o.fit_transform(ot)"
   ]
  },
  {
   "cell_type": "code",
   "execution_count": 44,
   "metadata": {},
   "outputs": [
    {
     "data": {
      "text/plain": [
       "array([2, 1, 0, 3, 4, 5])"
      ]
     },
     "execution_count": 44,
     "metadata": {},
     "output_type": "execute_result"
    }
   ],
   "source": [
    "ot_label"
   ]
  },
  {
   "cell_type": "code",
   "execution_count": 45,
   "metadata": {},
   "outputs": [
    {
     "name": "stdout",
     "output_type": "stream",
     "text": [
      "[2]\n"
     ]
    }
   ],
   "source": [
    "print(model.predict([sample]))"
   ]
  },
  {
   "cell_type": "markdown",
   "metadata": {},
   "source": [
    "## Now as we can see that our model is performing pretty good we can deploy it using flask"
   ]
  },
  {
   "cell_type": "markdown",
   "metadata": {},
   "source": [
    "## Neural Networks"
   ]
  },
  {
   "cell_type": "markdown",
   "metadata": {},
   "source": [
    "### Let us try to implement simple neural network and see how it performs on this dataset and does Deeplearing beats our traditional sklearn ML models"
   ]
  },
  {
   "cell_type": "code",
   "execution_count": 83,
   "metadata": {},
   "outputs": [],
   "source": [
    "train_df = pd.read_csv(\"https://s3.amazonaws.com/hackerday.datascience/112/train.csv\")\n",
    "test_df = pd.read_csv(\"https://s3.amazonaws.com/hackerday.datascience/112/test.csv\")"
   ]
  },
  {
   "cell_type": "code",
   "execution_count": 84,
   "metadata": {},
   "outputs": [],
   "source": [
    "X = train_df.iloc[:, :-1].values\n",
    "y = train_df.iloc[:, -1].values"
   ]
  },
  {
   "cell_type": "code",
   "execution_count": 85,
   "metadata": {},
   "outputs": [],
   "source": [
    "# Diving test set \n",
    "X_test=test_df.iloc[:,:-1].values\n",
    "y_test=test_df.iloc[:,-1].values"
   ]
  },
  {
   "cell_type": "code",
   "execution_count": 86,
   "metadata": {},
   "outputs": [],
   "source": [
    "from sklearn.model_selection import train_test_split\n",
    "X_train, X_eval, y_train, y_eval = train_test_split(X, y, test_size = 0.1, random_state = 0)"
   ]
  },
  {
   "cell_type": "code",
   "execution_count": 87,
   "metadata": {},
   "outputs": [],
   "source": [
    "# Feature Scaling\n",
    "from sklearn.preprocessing import StandardScaler\n",
    "sc = StandardScaler()\n",
    "X_train = sc.fit_transform(X_train)\n",
    "X_eval = sc.fit_transform(X_eval)\n",
    "X_test = sc.transform(X_test)"
   ]
  },
  {
   "cell_type": "code",
   "execution_count": 88,
   "metadata": {},
   "outputs": [],
   "source": [
    "y_train = pd.get_dummies(y_train)\n",
    "y_eval =  pd.get_dummies(y_eval)"
   ]
  },
  {
   "cell_type": "code",
   "execution_count": 77,
   "metadata": {},
   "outputs": [
    {
     "name": "stderr",
     "output_type": "stream",
     "text": [
      "Using TensorFlow backend.\n"
     ]
    },
    {
     "name": "stdout",
     "output_type": "stream",
     "text": [
      "Train on 899 samples, validate on 100 samples\n",
      "Epoch 1/25\n",
      "899/899 [==============================] - 3s 4ms/step - loss: 0.7979 - acc: 0.7041 - val_loss: 0.9979 - val_acc: 0.5100\n",
      "Epoch 2/25\n",
      "899/899 [==============================] - 1s 1ms/step - loss: 0.3908 - acc: 0.8765 - val_loss: 0.2823 - val_acc: 0.8700\n",
      "Epoch 3/25\n",
      "899/899 [==============================] - 1s 1ms/step - loss: 0.2143 - acc: 0.9199 - val_loss: 0.1356 - val_acc: 0.9500\n",
      "Epoch 4/25\n",
      "899/899 [==============================] - 1s 1ms/step - loss: 0.1402 - acc: 0.9655 - val_loss: 0.1924 - val_acc: 0.9500\n",
      "Epoch 5/25\n",
      "899/899 [==============================] - 1s 1ms/step - loss: 0.1084 - acc: 0.9700 - val_loss: 0.0943 - val_acc: 0.9700\n",
      "Epoch 6/25\n",
      "899/899 [==============================] - 1s 994us/step - loss: 0.0663 - acc: 0.9844 - val_loss: 0.1273 - val_acc: 0.9600\n",
      "Epoch 7/25\n",
      "899/899 [==============================] - 1s 1ms/step - loss: 0.0579 - acc: 0.9855 - val_loss: 0.0574 - val_acc: 0.9800\n",
      "Epoch 8/25\n",
      "899/899 [==============================] - 1s 1ms/step - loss: 0.0082 - acc: 1.0000 - val_loss: 0.1510 - val_acc: 0.9700\n",
      "Epoch 9/25\n",
      "899/899 [==============================] - 1s 984us/step - loss: 0.0031 - acc: 1.0000 - val_loss: 0.0630 - val_acc: 0.9900\n",
      "Epoch 10/25\n",
      "899/899 [==============================] - 1s 937us/step - loss: 0.0012 - acc: 1.0000 - val_loss: 0.0774 - val_acc: 0.9900\n",
      "Epoch 11/25\n",
      "899/899 [==============================] - 1s 1ms/step - loss: 4.6010e-04 - acc: 1.0000 - val_loss: 0.2073 - val_acc: 0.9700\n",
      "Epoch 12/25\n",
      "899/899 [==============================] - 1s 1ms/step - loss: 0.0497 - acc: 0.9900 - val_loss: 0.1826 - val_acc: 0.9500\n",
      "Epoch 13/25\n",
      "899/899 [==============================] - 1s 1ms/step - loss: 0.1327 - acc: 0.9822 - val_loss: 0.0940 - val_acc: 0.9900\n",
      "Epoch 14/25\n",
      "899/899 [==============================] - 1s 881us/step - loss: 1.9166e-04 - acc: 1.0000 - val_loss: 0.0924 - val_acc: 0.9900\n",
      "Epoch 15/25\n",
      "899/899 [==============================] - 1s 1ms/step - loss: 1.4501e-04 - acc: 1.0000 - val_loss: 0.0953 - val_acc: 0.9900\n",
      "Epoch 16/25\n",
      "899/899 [==============================] - 1s 1ms/step - loss: 0.0667 - acc: 0.9833 - val_loss: 0.2814 - val_acc: 0.9600\n",
      "Epoch 17/25\n",
      "899/899 [==============================] - 1s 1ms/step - loss: 0.0718 - acc: 0.9889 - val_loss: 0.0639 - val_acc: 0.9900\n",
      "Epoch 18/25\n",
      "899/899 [==============================] - 1s 1ms/step - loss: 4.8149e-04 - acc: 1.0000 - val_loss: 0.0825 - val_acc: 0.9900\n",
      "Epoch 19/25\n",
      "899/899 [==============================] - ETA: 0s - loss: 1.2781e-04 - acc: 1.000 - 1s 1ms/step - loss: 1.2780e-04 - acc: 1.0000 - val_loss: 0.0848 - val_acc: 0.9900\n",
      "Epoch 20/25\n",
      "899/899 [==============================] - 1s 1ms/step - loss: 9.1539e-05 - acc: 1.0000 - val_loss: 0.0921 - val_acc: 0.9900\n",
      "Epoch 21/25\n",
      "899/899 [==============================] - 1s 1ms/step - loss: 5.4033e-05 - acc: 1.0000 - val_loss: 0.1016 - val_acc: 0.9900\n",
      "Epoch 22/25\n",
      "899/899 [==============================] - 1s 1ms/step - loss: 2.6604e-05 - acc: 1.0000 - val_loss: 0.1124 - val_acc: 0.9900\n",
      "Epoch 23/25\n",
      "899/899 [==============================] - 1s 1ms/step - loss: 1.3043e-05 - acc: 1.0000 - val_loss: 0.1225 - val_acc: 0.9900\n",
      "Epoch 24/25\n",
      "899/899 [==============================] - 1s 1ms/step - loss: 6.4818e-06 - acc: 1.0000 - val_loss: 0.1310 - val_acc: 0.9900\n",
      "Epoch 25/25\n",
      "899/899 [==============================] - 1s 1ms/step - loss: 3.1410e-06 - acc: 1.0000 - val_loss: 0.1371 - val_acc: 0.9900\n"
     ]
    }
   ],
   "source": [
    "# Importing the Keras libraries and packages\n",
    "import keras\n",
    "from keras.models import Sequential\n",
    "from keras.layers import Dense, Dropout\n",
    "# Initialising the ANN\n",
    "classifier = Sequential()\n",
    "# Adding the input layer and the first hidden layer\n",
    "classifier.add(Dense(units = 562, activation = 'tanh', input_dim = 562))\n",
    "\n",
    "# Adding the second hidden layer\n",
    "classifier.add(Dense(units = 128, activation = 'tanh'))\n",
    "#classifier.add(Dense(units = 128, activation = 'tanh'))\n",
    "classifier.add(Dropout(0.2))\n",
    "\n",
    "classifier.add(Dense(units = 64, activation = 'tanh'))\n",
    "#classifier.add(Dense(units = 64, activation = 'tanh'))\n",
    "classifier.add(Dropout(0.2))\n",
    "\n",
    "classifier.add(Dense(units = 32, activation = 'tanh'))\n",
    "#classifier.add(Dense(units = 32, activation = 'tanh'))\n",
    "classifier.add(Dropout(0.05))\n",
    "# Adding the output layer\n",
    "classifier.add(Dense(units = 6, activation = 'softmax'))\n",
    "# Compiling the ANN\n",
    "classifier.compile(optimizer = 'rmsprop', loss = 'categorical_crossentropy', metrics = ['accuracy'])\n",
    "# Fitting the ANN to the Training set\n",
    "history = classifier.fit(X_train, y_train, \n",
    "                         validation_data = (X_eval, y_eval), \n",
    "                         batch_size = 28, \n",
    "                         epochs = 25)\n"
   ]
  },
  {
   "cell_type": "code",
   "execution_count": 78,
   "metadata": {},
   "outputs": [],
   "source": [
    "# Prediction\n",
    "test_pred = classifier.predict(X_test)"
   ]
  },
  {
   "cell_type": "code",
   "execution_count": 79,
   "metadata": {},
   "outputs": [],
   "source": [
    "# Mark probability score > 0.5 as Predicted Label, axis = 1 means insert column-wise \n",
    "results = test_pred.argmax(axis=1)"
   ]
  },
  {
   "cell_type": "code",
   "execution_count": 80,
   "metadata": {},
   "outputs": [
    {
     "data": {
      "text/plain": [
       "array([2, 2, 2, 2, 2, 2, 2, 2, 2, 2])"
      ]
     },
     "execution_count": 80,
     "metadata": {},
     "output_type": "execute_result"
    }
   ],
   "source": [
    "results[:10]"
   ]
  },
  {
   "cell_type": "code",
   "execution_count": 81,
   "metadata": {},
   "outputs": [],
   "source": [
    "labelencoder_y=LabelEncoder()\n",
    "y_test=labelencoder_y.fit_transform(y_test)"
   ]
  },
  {
   "cell_type": "code",
   "execution_count": 82,
   "metadata": {},
   "outputs": [
    {
     "data": {
      "text/plain": [
       "0.8478478478478478"
      ]
     },
     "execution_count": 82,
     "metadata": {},
     "output_type": "execute_result"
    }
   ],
   "source": [
    "from sklearn.metrics import accuracy_score\n",
    "accuracy_score(y_test, results)"
   ]
  },
  {
   "cell_type": "markdown",
   "metadata": {},
   "source": [
    "### We can see our sklearn gives better accuracy with less efforts"
   ]
  }
 ],
 "metadata": {
  "kernelspec": {
   "display_name": "Python 3",
   "language": "python",
   "name": "python3"
  },
  "language_info": {
   "codemirror_mode": {
    "name": "ipython",
    "version": 3
   },
   "file_extension": ".py",
   "mimetype": "text/x-python",
   "name": "python",
   "nbconvert_exporter": "python",
   "pygments_lexer": "ipython3",
   "version": "3.8.5"
  }
 },
 "nbformat": 4,
 "nbformat_minor": 2
}
